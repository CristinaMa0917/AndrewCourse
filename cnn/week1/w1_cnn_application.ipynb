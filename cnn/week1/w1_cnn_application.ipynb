{
 "cells": [
  {
   "cell_type": "code",
   "execution_count": 11,
   "metadata": {},
   "outputs": [],
   "source": [
    "import math\n",
    "import numpy as np\n",
    "import h5py\n",
    "import matplotlib.pyplot as plt\n",
    "import scipy\n",
    "from PIL import Image\n",
    "from scipy import ndimage\n",
    "import tensorflow as tf\n",
    "from tensorflow.python.framework import ops\n",
    "from cnn_utils import *\n",
    "\n",
    "%matplotlib inline\n",
    "np.random.seed(1)"
   ]
  },
  {
   "cell_type": "code",
   "execution_count": 13,
   "metadata": {},
   "outputs": [
    {
     "name": "stdout",
     "output_type": "stream",
     "text": [
      "y= 2\n"
     ]
    },
    {
     "data": {
      "image/png": "[encoded data removed]",
      "text/plain": [
       "<matplotlib.figure.Figure at 0x181cc0a1d0>"
      ]
     },
     "metadata": {},
     "output_type": "display_data"
    }
   ],
   "source": [
    "X_train_orig, Y_train_orig, X_test_orig, Y_test_orig, classes = load_dataset()\n",
    "plt.imshow(X_train_orig[6])\n",
    "print('y=',np.squeeze(Y_train_orig[:,6]))"
   ]
  },
  {
   "cell_type": "code",
   "execution_count": 46,
   "metadata": {},
   "outputs": [
    {
     "name": "stdout",
     "output_type": "stream",
     "text": [
      "x train shape : (1080, 64, 64, 3)\n",
      "y train shape : (1080, 6)\n",
      "x test shape : (120, 64, 64, 3)\n",
      "y test shape : (120, 6)\n"
     ]
    }
   ],
   "source": [
    "X_train = X_train_orig/255\n",
    "X_test = X_test_orig/255\n",
    "Y_train = convert_to_one_hot(Y_train_orig,6).T\n",
    "Y_test = convert_to_one_hot(Y_test_orig,6).T\n",
    "print('x train shape :',X_train.shape)\n",
    "print('y train shape :',Y_train.shape)\n",
    "\n",
    "print('x test shape :',X_test.shape)\n",
    "print('y test shape :',Y_test.shape)"
   ]
  },
  {
   "cell_type": "code",
   "execution_count": 19,
   "metadata": {},
   "outputs": [
    {
     "name": "stdout",
     "output_type": "stream",
     "text": [
      "X = Tensor(\"Placeholder_1:0\", shape=(?, 64, 64, 3), dtype=float32)\n",
      "Y = Tensor(\"Placeholder_2:0\", shape=(?, 6), dtype=float32)\n"
     ]
    }
   ],
   "source": [
    "def create_placeholders(n_H0,n_W0,n_C0,n_y):\n",
    "    x = tf.placeholder(tf.float32,shape = [None,n_H0,n_W0,n_C0])\n",
    "    y = tf.placeholder(tf.float32,shape = [None,n_y])\n",
    "    return x,y\n",
    "X, Y = create_placeholders(64, 64, 3, 6)\n",
    "print (\"X = \" + str(X))\n",
    "print (\"Y = \" + str(Y))"
   ]
  },
  {
   "cell_type": "code",
   "execution_count": 23,
   "metadata": {},
   "outputs": [
    {
     "name": "stdout",
     "output_type": "stream",
     "text": [
      "w1 [ 0.00131723  0.14176141 -0.04434952  0.09197326  0.14984085 -0.03514394\n",
      " -0.06847463  0.05245192]\n",
      "w2 [-0.08566415  0.17750949  0.11974221  0.16773748 -0.0830943  -0.08058\n",
      " -0.00577033 -0.14643836  0.24162132 -0.05857408 -0.19055021  0.1345228\n",
      " -0.22779644 -0.1601823  -0.16117483 -0.10286498]\n"
     ]
    }
   ],
   "source": [
    "def initialize_parameters():\n",
    "    \"\"\"\n",
    "    Initializes weight parameters to build a neural network with tensorflow. The shapes are:\n",
    "                        W1 : [4, 4, 3, 8]\n",
    "                        W2 : [2, 2, 8, 16]\n",
    "    Returns:\n",
    "    parameters -- a dictionary of tensors containing W1, W2\n",
    "    \"\"\"\n",
    "    tf.set_random_seed(1)\n",
    "    \n",
    "    W1 = tf.get_variable('W1',[4,4,3,8],initializer = tf.contrib.layers.xavier_initializer(seed = 0))\n",
    "    W2 = tf.get_variable('W2',[2,2,8,16],initializer = tf.contrib.layers.xavier_initializer(seed = 0))\n",
    "    \n",
    "    parameters = {'W1':W1,'W2':W2}\n",
    "    return parameters\n",
    "tf.reset_default_graph()\n",
    "with tf.Session() as sess_test:\n",
    "    parameters = initialize_parameters()\n",
    "    init = tf.global_variables_initializer()\n",
    "    sess_test.run(init)\n",
    "    print('w1',parameters['W1'].eval()[1,1,1]) ### why eval ?\n",
    "    print('w2',parameters['W2'].eval()[1,1,1])"
   ]
  },
  {
   "cell_type": "code",
   "execution_count": 33,
   "metadata": {},
   "outputs": [],
   "source": [
    "def forward_propagation(X, parameters): ## after a conv, there is a relu\n",
    "    \"\"\"\n",
    "    Implements the forward propagation for the model:\n",
    "    CONV2D -> RELU -> MAXPOOL -> CONV2D -> RELU -> MAXPOOL -> FLATTEN -> FULLYCONNECTED\n",
    "\n",
    "    Arguments:\n",
    "    X -- input dataset placeholder, of shape (input size, number of examples)\n",
    "    parameters -- python dictionary containing your parameters \"W1\", \"W2\"\n",
    "                  the shapes are given in initialize_parameters\n",
    "\n",
    "    Returns:\n",
    "    Z3 -- the output of the last LINEAR unit\n",
    "    \"\"\"\n",
    "    W1 = parameters['W1']\n",
    "    W2 = parameters['W2']\n",
    "    \n",
    "    A1 = tf.nn.conv2d(X,W1,strides = [1,1,1,1],padding = 'SAME')\n",
    "    \n",
    "    A2 = tf.nn.relu(A1)\n",
    "    \n",
    "    A3 = tf.nn.max_pool(A2,ksize = [1,8,8,1],strides=[1,8,8,1],padding = 'SAME')\n",
    "    \n",
    "    A4 = tf.nn.conv2d(A3,W2,strides = [1,1,1,1],padding = 'SAME')\n",
    "    \n",
    "    A5 = tf.nn.relu(A4)\n",
    "    \n",
    "    A6 = tf.nn.max_pool(A5,[1,4,4,1],[1,4,4,1],padding = 'SAME')\n",
    "    \n",
    "    A7 = tf.contrib.layers.flatten(A6)\n",
    "    \n",
    "    Z3 = tf.contrib.layers.fully_connected(A7,6,activation_fn = None)\n",
    "    \n",
    "    return Z3\n"
   ]
  },
  {
   "cell_type": "code",
   "execution_count": 32,
   "metadata": {},
   "outputs": [],
   "source": [
    "def compute_cost(Z3,Y):\n",
    "    cost = tf.reduce_mean(tf.nn.softmax_cross_entropy_with_logits\n",
    "                          (logits = Z3,labels = Y))\n",
    "    return cost"
   ]
  },
  {
   "cell_type": "code",
   "execution_count": 57,
   "metadata": {},
   "outputs": [],
   "source": [
    "def model(X_train, Y_train, X_test, Y_test, learning_rate = 0.009,\n",
    "          num_epochs = 100, minibatch_size = 64, print_cost = True):\n",
    "    \n",
    "    ops.reset_default_graph()\n",
    "    tf.set_random_seed(1)\n",
    "    seed = 3\n",
    "    \n",
    "    (m,n_H0,n_W0,n_C0)= X_train.shape\n",
    "    n_y = Y_train.shape[1]\n",
    "    costs = []\n",
    "    \n",
    "    X,Y = create_placeholders(n_H0,n_W0,n_C0,n_y)\n",
    "    parameters = initialize_parameters()\n",
    "    \n",
    "    Z3 = forward_propagation(X,parameters)\n",
    "    cost = compute_cost(Z3,Y)\n",
    "    \n",
    "    optimier = tf.train.AdamOptimizer(learning_rate).minimize(cost)\n",
    "    \n",
    "    init = tf.global_variables_initializer()\n",
    "    with tf.Session() as sess:\n",
    "        sess.run(init)\n",
    "        \n",
    "        for epoch in range(num_epochs):\n",
    "            minibatch_cost = 0\n",
    "            num_minibatches = int(m/minibatch_size)\n",
    "            seed += 1\n",
    "            minibatches = random_mini_batches(X_train,Y_train,minibatch_size,seed)\n",
    "            \n",
    "            for minibatch in minibatches:\n",
    "                (minibatch_X,minibatch_Y) = minibatch\n",
    "                _,temp_cost = sess.run([optimier,cost],\n",
    "                                   feed_dict = {X:minibatch_X,Y:minibatch_Y})\n",
    "            \n",
    "                minibatch_cost += temp_cost/num_minibatches\n",
    "            \n",
    "            if print_cost == True and epoch %5 == 0:\n",
    "                print('cost after epoch %i:%f'%(epoch,minibatch_cost))\n",
    "            if print_cost == True and epoch %1 == 0:\n",
    "                costs.append(minibatch_cost)\n",
    "    \n",
    "        plt.plot(np.squeeze(costs))\n",
    "        plt.ylabel('cost')\n",
    "        plt.xlabel('iterations(per tens)')\n",
    "        plt.title('learning rate = '+ str(learning_rate))\n",
    "        plt.show()\n",
    "\n",
    "        predict_op = tf.argmax(Z3,1)\n",
    "        correct_prediction = tf.equal(predict_op,tf.argmax(Y,1))\n",
    "\n",
    "        accuarcy = tf.reduce_mean(tf.cast(correct_prediction,\"float\"))\n",
    "        train_accuarcy = accuarcy.eval({X:X_train,Y:Y_train})\n",
    "        test_accuracy = accuarcy.eval({X:X_test,Y:Y_test})\n",
    "        print('train accuracy ',train_accuarcy)\n",
    "        print('test accuarcy',test_accuracy)\n",
    "\n",
    "        return train_accuarcy,test_accuracy,parameters"
   ]
  },
  {
   "cell_type": "code",
   "execution_count": 58,
   "metadata": {},
   "outputs": [
    {
     "name": "stdout",
     "output_type": "stream",
     "text": [
      "cost after epoch 0:1.917929\n",
      "cost after epoch 5:1.506757\n",
      "cost after epoch 10:0.955359\n",
      "cost after epoch 15:0.845802\n",
      "cost after epoch 20:0.701173\n",
      "cost after epoch 25:0.570725\n",
      "cost after epoch 30:0.531806\n",
      "cost after epoch 35:0.522357\n",
      "cost after epoch 40:0.426237\n",
      "cost after epoch 45:0.416917\n",
      "cost after epoch 50:0.392239\n",
      "cost after epoch 55:0.351203\n",
      "cost after epoch 60:0.300881\n",
      "cost after epoch 65:0.299140\n",
      "cost after epoch 70:0.319066\n",
      "cost after epoch 75:0.292510\n",
      "cost after epoch 80:0.270511\n",
      "cost after epoch 85:0.298058\n",
      "cost after epoch 90:0.211864\n",
      "cost after epoch 95:0.164706\n"
     ]
    },
    {
     "data": {
      "image/png": "[encoded data removed]",
      "text/plain": [
       "<matplotlib.figure.Figure at 0x1a6f964400>"
      ]
     },
     "metadata": {},
     "output_type": "display_data"
    },
    {
     "name": "stdout",
     "output_type": "stream",
     "text": [
      "train accuracy  0.92963\n",
      "test accuarcy 0.791667\n"
     ]
    }
   ],
   "source": [
    "_,_,parameters = model(X_train, Y_train, X_test, Y_test)"
   ]
  },
  {
   "cell_type": "code",
   "execution_count": null,
   "metadata": {},
   "outputs": [],
   "source": []
  },
  {
   "cell_type": "code",
   "execution_count": null,
   "metadata": {},
   "outputs": [],
   "source": []
  }
 ],
 "metadata": {
  "kernelspec": {
   "display_name": "Python 3",
   "language": "python",
   "name": "python3"
  },
  "language_info": {
   "codemirror_mode": {
    "name": "ipython",
    "version": 3
   },
   "file_extension": ".py",
   "mimetype": "text/x-python",
   "name": "python",
   "nbconvert_exporter": "python",
   "pygments_lexer": "ipython3",
   "version": "3.6.4"
  }
 },
 "nbformat": 4,
 "nbformat_minor": 2
}
